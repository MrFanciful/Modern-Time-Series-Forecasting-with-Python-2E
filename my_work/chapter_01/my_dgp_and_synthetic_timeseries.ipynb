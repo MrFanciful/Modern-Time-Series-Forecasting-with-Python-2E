{
 "cells": [
  {
   "cell_type": "code",
   "id": "initial_id",
   "metadata": {
    "collapsed": true,
    "ExecuteTime": {
     "end_time": "2025-10-06T12:29:56.459283Z",
     "start_time": "2025-10-06T12:29:55.799279Z"
    }
   },
   "source": [
    "import numpy as np\n",
    "import matplotlib.pyplot as plt\n",
    "import pandas as pd\n",
    "import os\n",
    "import plotly.express as px\n",
    "import plotly.io as pio\n",
    "import timesynth as ts\n",
    "from src.synthetic_ts.autoregressive import AutoRegressive\n",
    "\n",
    "pio.templates.default = 'plotly_white'\n",
    "np.random.seed()\n"
   ],
   "outputs": [],
   "execution_count": 1
  },
  {
   "metadata": {
    "ExecuteTime": {
     "end_time": "2025-10-06T12:29:57.260694Z",
     "start_time": "2025-10-06T12:29:57.257544Z"
    }
   },
   "cell_type": "code",
   "source": [
    "SAVE_FIGURES = False\n",
    "if SAVE_FIGURES:\n",
    "    os.makedirs('img/chapter_01', exist_ok=True)"
   ],
   "id": "644f11b3143e7f7d",
   "outputs": [],
   "execution_count": 2
  },
  {
   "metadata": {},
   "cell_type": "markdown",
   "source": "# Data Generating Process and Synthetic Time Series",
   "id": "769fecf75ba80ea4"
  },
  {
   "metadata": {
    "ExecuteTime": {
     "end_time": "2025-10-06T14:06:16.429261Z",
     "start_time": "2025-10-06T14:06:16.423860Z"
    }
   },
   "cell_type": "code",
   "source": [
    "def plot_time_series(time, values, label, legends=None):\n",
    "    if legends is not None:\n",
    "        assert len(legends) == len(values)\n",
    "    if isinstance(values, list):\n",
    "        series_dict = {'Time': time}\n",
    "        for v, l in zip(values, legends):\n",
    "            series_dict[l] = v\n",
    "        plot_df = pd.DataFrame(series_dict)\n",
    "        plot_df = pd.melt(plot_df, id_vars='Time', var_name='ts', value_name='Value')\n",
    "    else:\n",
    "        series_dict = {'Time': time, 'Value': values, 'ts': ''}\n",
    "        plot_df = pd.DataFrame(series_dict)\n",
    "\n",
    "    if isinstance(values, list):\n",
    "        fig = px.line(plot_df, x='Time', y='Value', line_dash='ts')\n",
    "    else:\n",
    "        fig = px.line(plot_df, x='Time', y='Value')\n",
    "\n",
    "    fig.update_layout(\n",
    "        autosize=False,\n",
    "        width=900,\n",
    "        height=500,\n",
    "        title={\n",
    "            'text': label,\n",
    "            'y': 0.9,\n",
    "            'x': 0.5,\n",
    "            'xanchor': 'center',\n",
    "            'yanchor': 'top',\n",
    "            'font': {\n",
    "                'size': 25\n",
    "            }\n",
    "        },\n",
    "        yaxis=dict(\n",
    "            title={\n",
    "                'text': 'Value',\n",
    "                'font': dict(size=12)\n",
    "            }\n",
    "        ),\n",
    "        xaxis=dict(\n",
    "            title={\n",
    "                'text': 'Time',\n",
    "                'font': dict(size=12)\n",
    "            }\n",
    "        )\n",
    "    )\n",
    "    return fig\n",
    "\n",
    "def generate_timeseries(signal, noise=None):\n",
    "    time_sampler = ts.TimeSampler(stop_time=20)\n",
    "    regular_time_samples = time_sampler.sample_regular_time(num_points=100)\n",
    "    timeseries = ts.TimeSeries(signal_generator=signal, noise_generator=noise)\n",
    "    samples, signals, errors = timeseries.sample(regular_time_samples)\n",
    "    return samples, regular_time_samples, signals, errors"
   ],
   "id": "8168d9e4e9b9213",
   "outputs": [],
   "execution_count": 11
  },
  {
   "metadata": {},
   "cell_type": "markdown",
   "source": "## White Noise",
   "id": "bb1ef94b8dfeb386"
  },
  {
   "metadata": {
    "ExecuteTime": {
     "end_time": "2025-10-06T12:30:00.877687Z",
     "start_time": "2025-10-06T12:30:00.081164Z"
    }
   },
   "cell_type": "code",
   "source": [
    "# Generate the time axis with sequential numbers up to 200\n",
    "time = np.arange(200)\n",
    "\n",
    "# Sample 200 random values\n",
    "values = np.random.randn(200) * 100\n",
    "fig = plot_time_series(time, values, '')\n",
    "if SAVE_FIGURES:\n",
    "    fig.write_image('img/chapter_01/white_noise_process.png')\n",
    "fig.show()"
   ],
   "id": "2a313b3ba853c659",
   "outputs": [
    {
     "data": {
      "application/vnd.plotly.v1+json": {
       "data": [
        {
         "hovertemplate": "Time=%{x}<br>Value=%{y}<extra></extra>",
         "legendgroup": "",
         "line": {
          "color": "#636efa",
          "dash": "solid"
         },
         "marker": {
          "symbol": "circle"
         },
         "mode": "lines",
         "name": "",
         "orientation": "v",
         "showlegend": false,
         "x": {
          "dtype": "i2",
          "bdata": "AAABAAIAAwAEAAUABgAHAAgACQAKAAsADAANAA4ADwAQABEAEgATABQAFQAWABcAGAAZABoAGwAcAB0AHgAfACAAIQAiACMAJAAlACYAJwAoACkAKgArACwALQAuAC8AMAAxADIAMwA0ADUANgA3ADgAOQA6ADsAPAA9AD4APwBAAEEAQgBDAEQARQBGAEcASABJAEoASwBMAE0ATgBPAFAAUQBSAFMAVABVAFYAVwBYAFkAWgBbAFwAXQBeAF8AYABhAGIAYwBkAGUAZgBnAGgAaQBqAGsAbABtAG4AbwBwAHEAcgBzAHQAdQB2AHcAeAB5AHoAewB8AH0AfgB/AIAAgQCCAIMAhACFAIYAhwCIAIkAigCLAIwAjQCOAI8AkACRAJIAkwCUAJUAlgCXAJgAmQCaAJsAnACdAJ4AnwCgAKEAogCjAKQApQCmAKcAqACpAKoAqwCsAK0ArgCvALAAsQCyALMAtAC1ALYAtwC4ALkAugC7ALwAvQC+AL8AwADBAMIAwwDEAMUAxgDHAA=="
         },
         "xaxis": "x",
         "y": {
          "dtype": "f8",
          "bdata": "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"
         },
         "yaxis": "y",
         "type": "scatter"
        }
       ],
       "layout": {
        "template": {
         "data": {
          "histogram2dcontour": [
           {
            "type": "histogram2dcontour",
            "colorbar": {
             "outlinewidth": 0,
             "ticks": ""
            },
            "colorscale": [
             [
              0.0,
              "#0d0887"
             ],
             [
              0.1111111111111111,
              "#46039f"
             ],
             [
              0.2222222222222222,
              "#7201a8"
             ],
             [
              0.3333333333333333,
              "#9c179e"
             ],
             [
              0.4444444444444444,
              "#bd3786"
             ],
             [
              0.5555555555555556,
              "#d8576b"
             ],
             [
              0.6666666666666666,
              "#ed7953"
             ],
             [
              0.7777777777777778,
              "#fb9f3a"
             ],
             [
              0.8888888888888888,
              "#fdca26"
             ],
             [
              1.0,
              "#f0f921"
             ]
            ]
           }
          ],
          "choropleth": [
           {
            "type": "choropleth",
            "colorbar": {
             "outlinewidth": 0,
             "ticks": ""
            }
           }
          ],
          "histogram2d": [
           {
            "type": "histogram2d",
            "colorbar": {
             "outlinewidth": 0,
             "ticks": ""
            },
            "colorscale": [
             [
              0.0,
              "#0d0887"
             ],
             [
              0.1111111111111111,
              "#46039f"
             ],
             [
              0.2222222222222222,
              "#7201a8"
             ],
             [
              0.3333333333333333,
              "#9c179e"
             ],
             [
              0.4444444444444444,
              "#bd3786"
             ],
             [
              0.5555555555555556,
              "#d8576b"
             ],
             [
              0.6666666666666666,
              "#ed7953"
             ],
             [
              0.7777777777777778,
              "#fb9f3a"
             ],
             [
              0.8888888888888888,
              "#fdca26"
             ],
             [
              1.0,
              "#f0f921"
             ]
            ]
           }
          ],
          "heatmap": [
           {
            "type": "heatmap",
            "colorbar": {
             "outlinewidth": 0,
             "ticks": ""
            },
            "colorscale": [
             [
              0.0,
              "#0d0887"
             ],
             [
              0.1111111111111111,
              "#46039f"
             ],
             [
              0.2222222222222222,
              "#7201a8"
             ],
             [
              0.3333333333333333,
              "#9c179e"
             ],
             [
              0.4444444444444444,
              "#bd3786"
             ],
             [
              0.5555555555555556,
              "#d8576b"
             ],
             [
              0.6666666666666666,
              "#ed7953"
             ],
             [
              0.7777777777777778,
              "#fb9f3a"
             ],
             [
              0.8888888888888888,
              "#fdca26"
             ],
             [
              1.0,
              "#f0f921"
             ]
            ]
           }
          ],
          "contourcarpet": [
           {
            "type": "contourcarpet",
            "colorbar": {
             "outlinewidth": 0,
             "ticks": ""
            }
           }
          ],
          "contour": [
           {
            "type": "contour",
            "colorbar": {
             "outlinewidth": 0,
             "ticks": ""
            },
            "colorscale": [
             [
              0.0,
              "#0d0887"
             ],
             [
              0.1111111111111111,
              "#46039f"
             ],
             [
              0.2222222222222222,
              "#7201a8"
             ],
             [
              0.3333333333333333,
              "#9c179e"
             ],
             [
              0.4444444444444444,
              "#bd3786"
             ],
             [
              0.5555555555555556,
              "#d8576b"
             ],
             [
              0.6666666666666666,
              "#ed7953"
             ],
             [
              0.7777777777777778,
              "#fb9f3a"
             ],
             [
              0.8888888888888888,
              "#fdca26"
             ],
             [
              1.0,
              "#f0f921"
             ]
            ]
           }
          ],
          "surface": [
           {
            "type": "surface",
            "colorbar": {
             "outlinewidth": 0,
             "ticks": ""
            },
            "colorscale": [
             [
              0.0,
              "#0d0887"
             ],
             [
              0.1111111111111111,
              "#46039f"
             ],
             [
              0.2222222222222222,
              "#7201a8"
             ],
             [
              0.3333333333333333,
              "#9c179e"
             ],
             [
              0.4444444444444444,
              "#bd3786"
             ],
             [
              0.5555555555555556,
              "#d8576b"
             ],
             [
              0.6666666666666666,
              "#ed7953"
             ],
             [
              0.7777777777777778,
              "#fb9f3a"
             ],
             [
              0.8888888888888888,
              "#fdca26"
             ],
             [
              1.0,
              "#f0f921"
             ]
            ]
           }
          ],
          "mesh3d": [
           {
            "type": "mesh3d",
            "colorbar": {
             "outlinewidth": 0,
             "ticks": ""
            }
           }
          ],
          "scatter": [
           {
            "fillpattern": {
             "fillmode": "overlay",
             "size": 10,
             "solidity": 0.2
            },
            "type": "scatter"
           }
          ],
          "parcoords": [
           {
            "type": "parcoords",
            "line": {
             "colorbar": {
              "outlinewidth": 0,
              "ticks": ""
             }
            }
           }
          ],
          "scatterpolargl": [
           {
            "type": "scatterpolargl",
            "marker": {
             "colorbar": {
              "outlinewidth": 0,
              "ticks": ""
             }
            }
           }
          ],
          "bar": [
           {
            "error_x": {
             "color": "#2a3f5f"
            },
            "error_y": {
             "color": "#2a3f5f"
            },
            "marker": {
             "line": {
              "color": "white",
              "width": 0.5
             },
             "pattern": {
              "fillmode": "overlay",
              "size": 10,
              "solidity": 0.2
             }
            },
            "type": "bar"
           }
          ],
          "scattergeo": [
           {
            "type": "scattergeo",
            "marker": {
             "colorbar": {
              "outlinewidth": 0,
              "ticks": ""
             }
            }
           }
          ],
          "scatterpolar": [
           {
            "type": "scatterpolar",
            "marker": {
             "colorbar": {
              "outlinewidth": 0,
              "ticks": ""
             }
            }
           }
          ],
          "histogram": [
           {
            "marker": {
             "pattern": {
              "fillmode": "overlay",
              "size": 10,
              "solidity": 0.2
             }
            },
            "type": "histogram"
           }
          ],
          "scattergl": [
           {
            "type": "scattergl",
            "marker": {
             "colorbar": {
              "outlinewidth": 0,
              "ticks": ""
             }
            }
           }
          ],
          "scatter3d": [
           {
            "type": "scatter3d",
            "line": {
             "colorbar": {
              "outlinewidth": 0,
              "ticks": ""
             }
            },
            "marker": {
             "colorbar": {
              "outlinewidth": 0,
              "ticks": ""
             }
            }
           }
          ],
          "scattermap": [
           {
            "type": "scattermap",
            "marker": {
             "colorbar": {
              "outlinewidth": 0,
              "ticks": ""
             }
            }
           }
          ],
          "scattermapbox": [
           {
            "type": "scattermapbox",
            "marker": {
             "colorbar": {
              "outlinewidth": 0,
              "ticks": ""
             }
            }
           }
          ],
          "scatterternary": [
           {
            "type": "scatterternary",
            "marker": {
             "colorbar": {
              "outlinewidth": 0,
              "ticks": ""
             }
            }
           }
          ],
          "scattercarpet": [
           {
            "type": "scattercarpet",
            "marker": {
             "colorbar": {
              "outlinewidth": 0,
              "ticks": ""
             }
            }
           }
          ],
          "carpet": [
           {
            "aaxis": {
             "endlinecolor": "#2a3f5f",
             "gridcolor": "#C8D4E3",
             "linecolor": "#C8D4E3",
             "minorgridcolor": "#C8D4E3",
             "startlinecolor": "#2a3f5f"
            },
            "baxis": {
             "endlinecolor": "#2a3f5f",
             "gridcolor": "#C8D4E3",
             "linecolor": "#C8D4E3",
             "minorgridcolor": "#C8D4E3",
             "startlinecolor": "#2a3f5f"
            },
            "type": "carpet"
           }
          ],
          "table": [
           {
            "cells": {
             "fill": {
              "color": "#EBF0F8"
             },
             "line": {
              "color": "white"
             }
            },
            "header": {
             "fill": {
              "color": "#C8D4E3"
             },
             "line": {
              "color": "white"
             }
            },
            "type": "table"
           }
          ],
          "barpolar": [
           {
            "marker": {
             "line": {
              "color": "white",
              "width": 0.5
             },
             "pattern": {
              "fillmode": "overlay",
              "size": 10,
              "solidity": 0.2
             }
            },
            "type": "barpolar"
           }
          ],
          "pie": [
           {
            "automargin": true,
            "type": "pie"
           }
          ]
         },
         "layout": {
          "autotypenumbers": "strict",
          "colorway": [
           "#636efa",
           "#EF553B",
           "#00cc96",
           "#ab63fa",
           "#FFA15A",
           "#19d3f3",
           "#FF6692",
           "#B6E880",
           "#FF97FF",
           "#FECB52"
          ],
          "font": {
           "color": "#2a3f5f"
          },
          "hovermode": "closest",
          "hoverlabel": {
           "align": "left"
          },
          "paper_bgcolor": "white",
          "plot_bgcolor": "white",
          "polar": {
           "bgcolor": "white",
           "angularaxis": {
            "gridcolor": "#EBF0F8",
            "linecolor": "#EBF0F8",
            "ticks": ""
           },
           "radialaxis": {
            "gridcolor": "#EBF0F8",
            "linecolor": "#EBF0F8",
            "ticks": ""
           }
          },
          "ternary": {
           "bgcolor": "white",
           "aaxis": {
            "gridcolor": "#DFE8F3",
            "linecolor": "#A2B1C6",
            "ticks": ""
           },
           "baxis": {
            "gridcolor": "#DFE8F3",
            "linecolor": "#A2B1C6",
            "ticks": ""
           },
           "caxis": {
            "gridcolor": "#DFE8F3",
            "linecolor": "#A2B1C6",
            "ticks": ""
           }
          },
          "coloraxis": {
           "colorbar": {
            "outlinewidth": 0,
            "ticks": ""
           }
          },
          "colorscale": {
           "sequential": [
            [
             0.0,
             "#0d0887"
            ],
            [
             0.1111111111111111,
             "#46039f"
            ],
            [
             0.2222222222222222,
             "#7201a8"
            ],
            [
             0.3333333333333333,
             "#9c179e"
            ],
            [
             0.4444444444444444,
             "#bd3786"
            ],
            [
             0.5555555555555556,
             "#d8576b"
            ],
            [
             0.6666666666666666,
             "#ed7953"
            ],
            [
             0.7777777777777778,
             "#fb9f3a"
            ],
            [
             0.8888888888888888,
             "#fdca26"
            ],
            [
             1.0,
             "#f0f921"
            ]
           ],
           "sequentialminus": [
            [
             0.0,
             "#0d0887"
            ],
            [
             0.1111111111111111,
             "#46039f"
            ],
            [
             0.2222222222222222,
             "#7201a8"
            ],
            [
             0.3333333333333333,
             "#9c179e"
            ],
            [
             0.4444444444444444,
             "#bd3786"
            ],
            [
             0.5555555555555556,
             "#d8576b"
            ],
            [
             0.6666666666666666,
             "#ed7953"
            ],
            [
             0.7777777777777778,
             "#fb9f3a"
            ],
            [
             0.8888888888888888,
             "#fdca26"
            ],
            [
             1.0,
             "#f0f921"
            ]
           ],
           "diverging": [
            [
             0,
             "#8e0152"
            ],
            [
             0.1,
             "#c51b7d"
            ],
            [
             0.2,
             "#de77ae"
            ],
            [
             0.3,
             "#f1b6da"
            ],
            [
             0.4,
             "#fde0ef"
            ],
            [
             0.5,
             "#f7f7f7"
            ],
            [
             0.6,
             "#e6f5d0"
            ],
            [
             0.7,
             "#b8e186"
            ],
            [
             0.8,
             "#7fbc41"
            ],
            [
             0.9,
             "#4d9221"
            ],
            [
             1,
             "#276419"
            ]
           ]
          },
          "xaxis": {
           "gridcolor": "#EBF0F8",
           "linecolor": "#EBF0F8",
           "ticks": "",
           "title": {
            "standoff": 15
           },
           "zerolinecolor": "#EBF0F8",
           "automargin": true,
           "zerolinewidth": 2
          },
          "yaxis": {
           "gridcolor": "#EBF0F8",
           "linecolor": "#EBF0F8",
           "ticks": "",
           "title": {
            "standoff": 15
           },
           "zerolinecolor": "#EBF0F8",
           "automargin": true,
           "zerolinewidth": 2
          },
          "scene": {
           "xaxis": {
            "backgroundcolor": "white",
            "gridcolor": "#DFE8F3",
            "linecolor": "#EBF0F8",
            "showbackground": true,
            "ticks": "",
            "zerolinecolor": "#EBF0F8",
            "gridwidth": 2
           },
           "yaxis": {
            "backgroundcolor": "white",
            "gridcolor": "#DFE8F3",
            "linecolor": "#EBF0F8",
            "showbackground": true,
            "ticks": "",
            "zerolinecolor": "#EBF0F8",
            "gridwidth": 2
           },
           "zaxis": {
            "backgroundcolor": "white",
            "gridcolor": "#DFE8F3",
            "linecolor": "#EBF0F8",
            "showbackground": true,
            "ticks": "",
            "zerolinecolor": "#EBF0F8",
            "gridwidth": 2
           }
          },
          "shapedefaults": {
           "line": {
            "color": "#2a3f5f"
           }
          },
          "annotationdefaults": {
           "arrowcolor": "#2a3f5f",
           "arrowhead": 0,
           "arrowwidth": 1
          },
          "geo": {
           "bgcolor": "white",
           "landcolor": "white",
           "subunitcolor": "#C8D4E3",
           "showland": true,
           "showlakes": true,
           "lakecolor": "white"
          },
          "title": {
           "x": 0.05
          },
          "mapbox": {
           "style": "light"
          }
         }
        },
        "xaxis": {
         "anchor": "y",
         "domain": [
          0.0,
          1.0
         ],
         "title": {
          "text": "Time",
          "font": {
           "size": 12
          }
         }
        },
        "yaxis": {
         "anchor": "x",
         "domain": [
          0.0,
          1.0
         ],
         "title": {
          "text": "Value",
          "font": {
           "size": 12
          }
         }
        },
        "legend": {
         "tracegroupgap": 0
        },
        "margin": {
         "t": 60
        },
        "title": {
         "font": {
          "size": 25
         },
         "text": "",
         "y": 0.9,
         "x": 0.5,
         "xanchor": "center",
         "yanchor": "top"
        },
        "autosize": false,
        "width": 900,
        "height": 500
       },
       "config": {
        "plotlyServerURL": "https://plot.ly"
       }
      }
     },
     "metadata": {},
     "output_type": "display_data",
     "jetTransient": {
      "display_id": null
     }
    }
   ],
   "execution_count": 4
  },
  {
   "metadata": {},
   "cell_type": "markdown",
   "source": "## Red Noise",
   "id": "360907f2201a666f"
  },
  {
   "metadata": {
    "ExecuteTime": {
     "end_time": "2025-10-06T12:44:38.470662Z",
     "start_time": "2025-10-06T12:44:38.415706Z"
    }
   },
   "cell_type": "code",
   "source": [
    "# Setting the correlation coefficient\n",
    "r = 0.4\n",
    "\n",
    "# Generate time axis\n",
    "time = np.arange(200)\n",
    "\n",
    "# Generate white noise\n",
    "white_noise = np.random.randn(200) * 100\n",
    "\n",
    "# Create red noise by introducing correlation between subsequent values in the white noise\n",
    "values = np.zeros(200)\n",
    "for i, v in enumerate(white_noise):\n",
    "    if i == 0:\n",
    "        values[i] = v\n",
    "    else:\n",
    "        values[i] = r*values[i-1] + np.sqrt((1-np.power(r, 2))) * v\n",
    "\n",
    "fig = plot_time_series(time, values, '')\n",
    "if SAVE_FIGURES:\n",
    "    fig.write_image('img/chapter_01/red_noise_process.png')\n",
    "fig.show()"
   ],
   "id": "8c7c25ed072b38be",
   "outputs": [
    {
     "data": {
      "application/vnd.plotly.v1+json": {
       "data": [
        {
         "hovertemplate": "Time=%{x}<br>Value=%{y}<extra></extra>",
         "legendgroup": "",
         "line": {
          "color": "#636efa",
          "dash": "solid"
         },
         "marker": {
          "symbol": "circle"
         },
         "mode": "lines",
         "name": "",
         "orientation": "v",
         "showlegend": false,
         "x": {
          "dtype": "i2",
          "bdata": "AAABAAIAAwAEAAUABgAHAAgACQAKAAsADAANAA4ADwAQABEAEgATABQAFQAWABcAGAAZABoAGwAcAB0AHgAfACAAIQAiACMAJAAlACYAJwAoACkAKgArACwALQAuAC8AMAAxADIAMwA0ADUANgA3ADgAOQA6ADsAPAA9AD4APwBAAEEAQgBDAEQARQBGAEcASABJAEoASwBMAE0ATgBPAFAAUQBSAFMAVABVAFYAVwBYAFkAWgBbAFwAXQBeAF8AYABhAGIAYwBkAGUAZgBnAGgAaQBqAGsAbABtAG4AbwBwAHEAcgBzAHQAdQB2AHcAeAB5AHoAewB8AH0AfgB/AIAAgQCCAIMAhACFAIYAhwCIAIkAigCLAIwAjQCOAI8AkACRAJIAkwCUAJUAlgCXAJgAmQCaAJsAnACdAJ4AnwCgAKEAogCjAKQApQCmAKcAqACpAKoAqwCsAK0ArgCvALAAsQCyALMAtAC1ALYAtwC4ALkAugC7ALwAvQC+AL8AwADBAMIAwwDEAMUAxgDHAA=="
         },
         "xaxis": "x",
         "y": {
          "dtype": "f8",
          "bdata": "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"
         },
         "yaxis": "y",
         "type": "scatter"
        }
       ],
       "layout": {
        "template": {
         "data": {
          "histogram2dcontour": [
           {
            "type": "histogram2dcontour",
            "colorbar": {
             "outlinewidth": 0,
             "ticks": ""
            },
            "colorscale": [
             [
              0.0,
              "#0d0887"
             ],
             [
              0.1111111111111111,
              "#46039f"
             ],
             [
              0.2222222222222222,
              "#7201a8"
             ],
             [
              0.3333333333333333,
              "#9c179e"
             ],
             [
              0.4444444444444444,
              "#bd3786"
             ],
             [
              0.5555555555555556,
              "#d8576b"
             ],
             [
              0.6666666666666666,
              "#ed7953"
             ],
             [
              0.7777777777777778,
              "#fb9f3a"
             ],
             [
              0.8888888888888888,
              "#fdca26"
             ],
             [
              1.0,
              "#f0f921"
             ]
            ]
           }
          ],
          "choropleth": [
           {
            "type": "choropleth",
            "colorbar": {
             "outlinewidth": 0,
             "ticks": ""
            }
           }
          ],
          "histogram2d": [
           {
            "type": "histogram2d",
            "colorbar": {
             "outlinewidth": 0,
             "ticks": ""
            },
            "colorscale": [
             [
              0.0,
              "#0d0887"
             ],
             [
              0.1111111111111111,
              "#46039f"
             ],
             [
              0.2222222222222222,
              "#7201a8"
             ],
             [
              0.3333333333333333,
              "#9c179e"
             ],
             [
              0.4444444444444444,
              "#bd3786"
             ],
             [
              0.5555555555555556,
              "#d8576b"
             ],
             [
              0.6666666666666666,
              "#ed7953"
             ],
             [
              0.7777777777777778,
              "#fb9f3a"
             ],
             [
              0.8888888888888888,
              "#fdca26"
             ],
             [
              1.0,
              "#f0f921"
             ]
            ]
           }
          ],
          "heatmap": [
           {
            "type": "heatmap",
            "colorbar": {
             "outlinewidth": 0,
             "ticks": ""
            },
            "colorscale": [
             [
              0.0,
              "#0d0887"
             ],
             [
              0.1111111111111111,
              "#46039f"
             ],
             [
              0.2222222222222222,
              "#7201a8"
             ],
             [
              0.3333333333333333,
              "#9c179e"
             ],
             [
              0.4444444444444444,
              "#bd3786"
             ],
             [
              0.5555555555555556,
              "#d8576b"
             ],
             [
              0.6666666666666666,
              "#ed7953"
             ],
             [
              0.7777777777777778,
              "#fb9f3a"
             ],
             [
              0.8888888888888888,
              "#fdca26"
             ],
             [
              1.0,
              "#f0f921"
             ]
            ]
           }
          ],
          "contourcarpet": [
           {
            "type": "contourcarpet",
            "colorbar": {
             "outlinewidth": 0,
             "ticks": ""
            }
           }
          ],
          "contour": [
           {
            "type": "contour",
            "colorbar": {
             "outlinewidth": 0,
             "ticks": ""
            },
            "colorscale": [
             [
              0.0,
              "#0d0887"
             ],
             [
              0.1111111111111111,
              "#46039f"
             ],
             [
              0.2222222222222222,
              "#7201a8"
             ],
             [
              0.3333333333333333,
              "#9c179e"
             ],
             [
              0.4444444444444444,
              "#bd3786"
             ],
             [
              0.5555555555555556,
              "#d8576b"
             ],
             [
              0.6666666666666666,
              "#ed7953"
             ],
             [
              0.7777777777777778,
              "#fb9f3a"
             ],
             [
              0.8888888888888888,
              "#fdca26"
             ],
             [
              1.0,
              "#f0f921"
             ]
            ]
           }
          ],
          "surface": [
           {
            "type": "surface",
            "colorbar": {
             "outlinewidth": 0,
             "ticks": ""
            },
            "colorscale": [
             [
              0.0,
              "#0d0887"
             ],
             [
              0.1111111111111111,
              "#46039f"
             ],
             [
              0.2222222222222222,
              "#7201a8"
             ],
             [
              0.3333333333333333,
              "#9c179e"
             ],
             [
              0.4444444444444444,
              "#bd3786"
             ],
             [
              0.5555555555555556,
              "#d8576b"
             ],
             [
              0.6666666666666666,
              "#ed7953"
             ],
             [
              0.7777777777777778,
              "#fb9f3a"
             ],
             [
              0.8888888888888888,
              "#fdca26"
             ],
             [
              1.0,
              "#f0f921"
             ]
            ]
           }
          ],
          "mesh3d": [
           {
            "type": "mesh3d",
            "colorbar": {
             "outlinewidth": 0,
             "ticks": ""
            }
           }
          ],
          "scatter": [
           {
            "fillpattern": {
             "fillmode": "overlay",
             "size": 10,
             "solidity": 0.2
            },
            "type": "scatter"
           }
          ],
          "parcoords": [
           {
            "type": "parcoords",
            "line": {
             "colorbar": {
              "outlinewidth": 0,
              "ticks": ""
             }
            }
           }
          ],
          "scatterpolargl": [
           {
            "type": "scatterpolargl",
            "marker": {
             "colorbar": {
              "outlinewidth": 0,
              "ticks": ""
             }
            }
           }
          ],
          "bar": [
           {
            "error_x": {
             "color": "#2a3f5f"
            },
            "error_y": {
             "color": "#2a3f5f"
            },
            "marker": {
             "line": {
              "color": "white",
              "width": 0.5
             },
             "pattern": {
              "fillmode": "overlay",
              "size": 10,
              "solidity": 0.2
             }
            },
            "type": "bar"
           }
          ],
          "scattergeo": [
           {
            "type": "scattergeo",
            "marker": {
             "colorbar": {
              "outlinewidth": 0,
              "ticks": ""
             }
            }
           }
          ],
          "scatterpolar": [
           {
            "type": "scatterpolar",
            "marker": {
             "colorbar": {
              "outlinewidth": 0,
              "ticks": ""
             }
            }
           }
          ],
          "histogram": [
           {
            "marker": {
             "pattern": {
              "fillmode": "overlay",
              "size": 10,
              "solidity": 0.2
             }
            },
            "type": "histogram"
           }
          ],
          "scattergl": [
           {
            "type": "scattergl",
            "marker": {
             "colorbar": {
              "outlinewidth": 0,
              "ticks": ""
             }
            }
           }
          ],
          "scatter3d": [
           {
            "type": "scatter3d",
            "line": {
             "colorbar": {
              "outlinewidth": 0,
              "ticks": ""
             }
            },
            "marker": {
             "colorbar": {
              "outlinewidth": 0,
              "ticks": ""
             }
            }
           }
          ],
          "scattermap": [
           {
            "type": "scattermap",
            "marker": {
             "colorbar": {
              "outlinewidth": 0,
              "ticks": ""
             }
            }
           }
          ],
          "scattermapbox": [
           {
            "type": "scattermapbox",
            "marker": {
             "colorbar": {
              "outlinewidth": 0,
              "ticks": ""
             }
            }
           }
          ],
          "scatterternary": [
           {
            "type": "scatterternary",
            "marker": {
             "colorbar": {
              "outlinewidth": 0,
              "ticks": ""
             }
            }
           }
          ],
          "scattercarpet": [
           {
            "type": "scattercarpet",
            "marker": {
             "colorbar": {
              "outlinewidth": 0,
              "ticks": ""
             }
            }
           }
          ],
          "carpet": [
           {
            "aaxis": {
             "endlinecolor": "#2a3f5f",
             "gridcolor": "#C8D4E3",
             "linecolor": "#C8D4E3",
             "minorgridcolor": "#C8D4E3",
             "startlinecolor": "#2a3f5f"
            },
            "baxis": {
             "endlinecolor": "#2a3f5f",
             "gridcolor": "#C8D4E3",
             "linecolor": "#C8D4E3",
             "minorgridcolor": "#C8D4E3",
             "startlinecolor": "#2a3f5f"
            },
            "type": "carpet"
           }
          ],
          "table": [
           {
            "cells": {
             "fill": {
              "color": "#EBF0F8"
             },
             "line": {
              "color": "white"
             }
            },
            "header": {
             "fill": {
              "color": "#C8D4E3"
             },
             "line": {
              "color": "white"
             }
            },
            "type": "table"
           }
          ],
          "barpolar": [
           {
            "marker": {
             "line": {
              "color": "white",
              "width": 0.5
             },
             "pattern": {
              "fillmode": "overlay",
              "size": 10,
              "solidity": 0.2
             }
            },
            "type": "barpolar"
           }
          ],
          "pie": [
           {
            "automargin": true,
            "type": "pie"
           }
          ]
         },
         "layout": {
          "autotypenumbers": "strict",
          "colorway": [
           "#636efa",
           "#EF553B",
           "#00cc96",
           "#ab63fa",
           "#FFA15A",
           "#19d3f3",
           "#FF6692",
           "#B6E880",
           "#FF97FF",
           "#FECB52"
          ],
          "font": {
           "color": "#2a3f5f"
          },
          "hovermode": "closest",
          "hoverlabel": {
           "align": "left"
          },
          "paper_bgcolor": "white",
          "plot_bgcolor": "white",
          "polar": {
           "bgcolor": "white",
           "angularaxis": {
            "gridcolor": "#EBF0F8",
            "linecolor": "#EBF0F8",
            "ticks": ""
           },
           "radialaxis": {
            "gridcolor": "#EBF0F8",
            "linecolor": "#EBF0F8",
            "ticks": ""
           }
          },
          "ternary": {
           "bgcolor": "white",
           "aaxis": {
            "gridcolor": "#DFE8F3",
            "linecolor": "#A2B1C6",
            "ticks": ""
           },
           "baxis": {
            "gridcolor": "#DFE8F3",
            "linecolor": "#A2B1C6",
            "ticks": ""
           },
           "caxis": {
            "gridcolor": "#DFE8F3",
            "linecolor": "#A2B1C6",
            "ticks": ""
           }
          },
          "coloraxis": {
           "colorbar": {
            "outlinewidth": 0,
            "ticks": ""
           }
          },
          "colorscale": {
           "sequential": [
            [
             0.0,
             "#0d0887"
            ],
            [
             0.1111111111111111,
             "#46039f"
            ],
            [
             0.2222222222222222,
             "#7201a8"
            ],
            [
             0.3333333333333333,
             "#9c179e"
            ],
            [
             0.4444444444444444,
             "#bd3786"
            ],
            [
             0.5555555555555556,
             "#d8576b"
            ],
            [
             0.6666666666666666,
             "#ed7953"
            ],
            [
             0.7777777777777778,
             "#fb9f3a"
            ],
            [
             0.8888888888888888,
             "#fdca26"
            ],
            [
             1.0,
             "#f0f921"
            ]
           ],
           "sequentialminus": [
            [
             0.0,
             "#0d0887"
            ],
            [
             0.1111111111111111,
             "#46039f"
            ],
            [
             0.2222222222222222,
             "#7201a8"
            ],
            [
             0.3333333333333333,
             "#9c179e"
            ],
            [
             0.4444444444444444,
             "#bd3786"
            ],
            [
             0.5555555555555556,
             "#d8576b"
            ],
            [
             0.6666666666666666,
             "#ed7953"
            ],
            [
             0.7777777777777778,
             "#fb9f3a"
            ],
            [
             0.8888888888888888,
             "#fdca26"
            ],
            [
             1.0,
             "#f0f921"
            ]
           ],
           "diverging": [
            [
             0,
             "#8e0152"
            ],
            [
             0.1,
             "#c51b7d"
            ],
            [
             0.2,
             "#de77ae"
            ],
            [
             0.3,
             "#f1b6da"
            ],
            [
             0.4,
             "#fde0ef"
            ],
            [
             0.5,
             "#f7f7f7"
            ],
            [
             0.6,
             "#e6f5d0"
            ],
            [
             0.7,
             "#b8e186"
            ],
            [
             0.8,
             "#7fbc41"
            ],
            [
             0.9,
             "#4d9221"
            ],
            [
             1,
             "#276419"
            ]
           ]
          },
          "xaxis": {
           "gridcolor": "#EBF0F8",
           "linecolor": "#EBF0F8",
           "ticks": "",
           "title": {
            "standoff": 15
           },
           "zerolinecolor": "#EBF0F8",
           "automargin": true,
           "zerolinewidth": 2
          },
          "yaxis": {
           "gridcolor": "#EBF0F8",
           "linecolor": "#EBF0F8",
           "ticks": "",
           "title": {
            "standoff": 15
           },
           "zerolinecolor": "#EBF0F8",
           "automargin": true,
           "zerolinewidth": 2
          },
          "scene": {
           "xaxis": {
            "backgroundcolor": "white",
            "gridcolor": "#DFE8F3",
            "linecolor": "#EBF0F8",
            "showbackground": true,
            "ticks": "",
            "zerolinecolor": "#EBF0F8",
            "gridwidth": 2
           },
           "yaxis": {
            "backgroundcolor": "white",
            "gridcolor": "#DFE8F3",
            "linecolor": "#EBF0F8",
            "showbackground": true,
            "ticks": "",
            "zerolinecolor": "#EBF0F8",
            "gridwidth": 2
           },
           "zaxis": {
            "backgroundcolor": "white",
            "gridcolor": "#DFE8F3",
            "linecolor": "#EBF0F8",
            "showbackground": true,
            "ticks": "",
            "zerolinecolor": "#EBF0F8",
            "gridwidth": 2
           }
          },
          "shapedefaults": {
           "line": {
            "color": "#2a3f5f"
           }
          },
          "annotationdefaults": {
           "arrowcolor": "#2a3f5f",
           "arrowhead": 0,
           "arrowwidth": 1
          },
          "geo": {
           "bgcolor": "white",
           "landcolor": "white",
           "subunitcolor": "#C8D4E3",
           "showland": true,
           "showlakes": true,
           "lakecolor": "white"
          },
          "title": {
           "x": 0.05
          },
          "mapbox": {
           "style": "light"
          }
         }
        },
        "xaxis": {
         "anchor": "y",
         "domain": [
          0.0,
          1.0
         ],
         "title": {
          "text": "Time",
          "font": {
           "size": 12
          }
         }
        },
        "yaxis": {
         "anchor": "x",
         "domain": [
          0.0,
          1.0
         ],
         "title": {
          "text": "Value",
          "font": {
           "size": 12
          }
         }
        },
        "legend": {
         "tracegroupgap": 0
        },
        "margin": {
         "t": 60
        },
        "title": {
         "font": {
          "size": 25
         },
         "text": "",
         "y": 0.9,
         "x": 0.5,
         "xanchor": "center",
         "yanchor": "top"
        },
        "autosize": false,
        "width": 900,
        "height": 500
       },
       "config": {
        "plotlyServerURL": "https://plot.ly"
       }
      }
     },
     "metadata": {},
     "output_type": "display_data",
     "jetTransient": {
      "display_id": null
     }
    }
   ],
   "execution_count": 5
  },
  {
   "metadata": {},
   "cell_type": "markdown",
   "source": "## Sinusoidal",
   "id": "27c352c85e5f1b01"
  },
  {
   "metadata": {
    "ExecuteTime": {
     "end_time": "2025-10-06T14:05:59.998899Z",
     "start_time": "2025-10-06T14:05:59.994757Z"
    }
   },
   "cell_type": "code",
   "source": [
    "# Sinusoidal signal with aplitude=1.5 & frequency=0.25\n",
    "signal_1 = ts.signals.Sinusoidal(amplitude=1.5, frequency=0.25)\n",
    "# Sinusoidal signal with amplitude=1 & frequency=0.5\n",
    "signal_2 = ts.signals.Sinusoidal(amplitude=1, frequency=0.5)\n",
    "\n",
    "# Generate time series\n",
    "samples_1, regular_time_samples, sginals_1, errors_1 = generate_timeseries(signal=signal_1)\n",
    "samples_2, regular_time_samples, signals_2, errors_2 = generate_timeseries(signal=signal_2)"
   ],
   "id": "376f1f3b0053f20b",
   "outputs": [],
   "execution_count": 9
  },
  {
   "metadata": {
    "ExecuteTime": {
     "end_time": "2025-10-06T14:06:31.335452Z",
     "start_time": "2025-10-06T14:06:31.301115Z"
    }
   },
   "cell_type": "code",
   "source": [
    "fig = plot_time_series(regular_time_samples, [samples_1, samples_2], '',\n",
    "                       legends=['Amplitude = 1.5 | Frequency = 0.25', 'Amplitude = 1 | Frequency = 0.5'])\n",
    "\n",
    "if SAVE_FIGURES:\n",
    "    fig.write_image('img/chapter_01/sinusoidal_waves.png')\n",
    "fig.show()"
   ],
   "id": "fc041f6844528ba",
   "outputs": [
    {
     "data": {
      "application/vnd.plotly.v1+json": {
       "data": [
        {
         "hovertemplate": "ts=Amplitude = 1.5 | Frequency = 0.25<br>Time=%{x}<br>Value=%{y}<extra></extra>",
         "legendgroup": "Amplitude = 1.5 | Frequency = 0.25",
         "line": {
          "color": "#636efa",
          "dash": "solid"
         },
         "marker": {
          "symbol": "circle"
         },
         "mode": "lines",
         "name": "Amplitude = 1.5 | Frequency = 0.25",
         "orientation": "v",
         "showlegend": true,
         "x": {
          "dtype": "f8",
          "bdata": "AAAAAAAAAAAxb2dIzNvJPzFvZ0jM29k/ZZNNNtlk4z8xb2dIzNvpP3+lQK1fKfA/ZZNNNtlk8z9LgVq/UqD2PzFvZ0jM2/k/F1100UUX/T9/pUCtXykAQHIcx3EcxwFAZZNNNtlkA0BYCtT6lQIFQEuBWr9SoAZAPvjggw8+CEAxb2dIzNsJQCTm7QyJeQtAF1100UUXDUAK1PqVArUOQH+lQK1fKRBA+OCDDz74EEByHMdxHMcRQOtXCtT6lRJAZZNNNtlkE0DezpCYtzMUQFgK1PqVAhVA0UUXXXTRFUBLgVq/UqAWQMS8nSExbxdAPvjggw8+GEC3MyTm7QwZQDFvZ0jM2xlAq6qqqqqqGkAk5u0MiXkbQJ4hMW9nSBxAF1100UUXHUCRmLczJOYdQArU+pUCtR5AhA8++OCDH0B/pUCtXykgQDtDYt7OkCBA+OCDDz74IEC1fqVArV8hQHIcx3EcxyFALrrooosuIkDrVwrU+pUiQKj1KwVq/SJAZZNNNtlkI0AiMW9nSMwjQN7OkJi3MyRAm2yyySabJEBYCtT6lQIlQBWo9SsFaiVA0UUXXXTRJUCO4ziO4zgmQEuBWr9SoCZACB988MEHJ0DEvJ0hMW8nQIFav1Kg1idAPvjggw8+KED7lQK1fqUoQLczJObtDClAdNFFF110KUAxb2dIzNspQO4MiXk7QypAq6qqqqqqKkBnSMzbGRIrQCTm7QyJeStA4YMPPvjgK0CeITFvZ0gsQFq/UqDWryxAF1100UUXLUDU+pUCtX4tQJGYtzMk5i1ATTbZZJNNLkAK1PqVArUuQMdxHMdxHC9AhA8++OCDL0BArV8pUOsvQH+lQK1fKTBAXXTRRRddMEA7Q2LezpAwQBoS83aGxDBA+OCDDz74MEDXrxSo9SsxQLV+pUCtXzFAk0022WSTMUByHMdxHMcxQFDrVwrU+jFALrrooosuMkANiXk7Q2IyQOtXCtT6lTJAyiabbLLJMkCo9SsFav0yQIbEvJ0hMTNAZZNNNtlkM0BDYt7OkJgzQCIxb2dIzDNAAAAAAAAANEA="
         },
         "xaxis": "x",
         "y": {
          "dtype": "f8",
          "bdata": "AAAAAAAAAADHL7OxiPTdP+nH5xKndew/MPGzMMGM8z/+Gu1b6+r2P3NrGwU6//c/1L6JxBWu9j/zocsmKRnzPznpZxcIOOs/qdQx/NsL2z+uSTsu912ov/eIZ1e+auC/bDUKCPCr7b/sAN8mT/vzvwKBBKLYIfe/YgGEegr5979SNUOKZ2v2v2jwGNWkoPK/GgQZ9WTz6b/sTMaCNhzYvzJJEDPTWrg/8i5K/vzW4T8qIVr7ktruP9ga5Ym2ZPQ/KMc7bs9S9z/MzIX9rOz3P7AaTN3xIvY/gJ5rTFMj8j8fHYhaEajoP3If+wVaJtU/+n710zFAwr9Y4Ulpoj7jv9vlDPWgAPC/gDlCLtzI9L/OsXkhw333v6jUGL4k2ve/E6Eya8fU9b8oU27aVKHxv9a5rq9iVue/Z4F44Akr0r8UxgO0RU7IP0ewo+NRoeQ/+FEvb9iP8D8i9VZDpif1PxHVYKmoovc/NTIqg3bB9z+ABRBa/ID1P8vtUgHLGvE/sf7u/6/+5T8sJ1KpFVbOP+omUqkVVs6/ov7u/6/+5b/F7VIByxrxv3wFEFr8gPW/MDIqg3bB978U1WCpqKL3vyz1VkOmJ/W/B1Ivb9iP8L9rsKPjUaHkv/fFA7RFTsi/dYF44Akr0j/dua6vYlbnPxtTbtpUofE/CqEya8fU9T+m1Bi+JNr3P8+xeSHDffc/fzlCLtzI9D/q5Qz1oADwP33hSWmiPuM/PH/10zFAwj9SH/sFWibVv+gciFoRqOi/ap5rTFMj8r+oGkzd8SL2v8vMhf2s7Pe/Ksc7bs9S97/cGuWJtmT0vy0hWvuS2u6/9i5K/vzW4b8UShAz01q4vxFNxoI2HNg/AgQZ9WTz6T9U8BjVpKDyP1E1Q4pna/Y/YgGEegr59z8BgQSi2CH3P/QA3yZP+/M/oDUKCPCr7T8BiWdXvmrgP5ZMOy73Xag/UNQx/NsL278c6WcXCDjrv+qhyyYpGfO/2b6JxBWu9r9zaxsFOv/3vwUb7Vvr6va/LvGzMMGM878EyOcSp3Xsv5ovs7GI9N2/Rxbjz8OL4Lw="
         },
         "yaxis": "y",
         "type": "scatter"
        },
        {
         "hovertemplate": "ts=Amplitude = 1 | Frequency = 0.5<br>Time=%{x}<br>Value=%{y}<extra></extra>",
         "legendgroup": "Amplitude = 1 | Frequency = 0.5",
         "line": {
          "color": "#636efa",
          "dash": "dot"
         },
         "marker": {
          "symbol": "circle"
         },
         "mode": "lines",
         "name": "Amplitude = 1 | Frequency = 0.5",
         "orientation": "v",
         "showlegend": true,
         "x": {
          "dtype": "f8",
          "bdata": "AAAAAAAAAAAxb2dIzNvJPzFvZ0jM29k/ZZNNNtlk4z8xb2dIzNvpP3+lQK1fKfA/ZZNNNtlk8z9LgVq/UqD2PzFvZ0jM2/k/F1100UUX/T9/pUCtXykAQHIcx3EcxwFAZZNNNtlkA0BYCtT6lQIFQEuBWr9SoAZAPvjggw8+CEAxb2dIzNsJQCTm7QyJeQtAF1100UUXDUAK1PqVArUOQH+lQK1fKRBA+OCDDz74EEByHMdxHMcRQOtXCtT6lRJAZZNNNtlkE0DezpCYtzMUQFgK1PqVAhVA0UUXXXTRFUBLgVq/UqAWQMS8nSExbxdAPvjggw8+GEC3MyTm7QwZQDFvZ0jM2xlAq6qqqqqqGkAk5u0MiXkbQJ4hMW9nSBxAF1100UUXHUCRmLczJOYdQArU+pUCtR5AhA8++OCDH0B/pUCtXykgQDtDYt7OkCBA+OCDDz74IEC1fqVArV8hQHIcx3EcxyFALrrooosuIkDrVwrU+pUiQKj1KwVq/SJAZZNNNtlkI0AiMW9nSMwjQN7OkJi3MyRAm2yyySabJEBYCtT6lQIlQBWo9SsFaiVA0UUXXXTRJUCO4ziO4zgmQEuBWr9SoCZACB988MEHJ0DEvJ0hMW8nQIFav1Kg1idAPvjggw8+KED7lQK1fqUoQLczJObtDClAdNFFF110KUAxb2dIzNspQO4MiXk7QypAq6qqqqqqKkBnSMzbGRIrQCTm7QyJeStA4YMPPvjgK0CeITFvZ0gsQFq/UqDWryxAF1100UUXLUDU+pUCtX4tQJGYtzMk5i1ATTbZZJNNLkAK1PqVArUuQMdxHMdxHC9AhA8++OCDL0BArV8pUOsvQH+lQK1fKTBAXXTRRRddMEA7Q2LezpAwQBoS83aGxDBA+OCDDz74MEDXrxSo9SsxQLV+pUCtXzFAk0022WSTMUByHMdxHMcxQFDrVwrU+jFALrrooosuMkANiXk7Q2IyQOtXCtT6lTJAyiabbLLJMkCo9SsFav0yQIbEvJ0hMTNAZZNNNtlkM0BDYt7OkJgzQCIxb2dIzDNAAAAAAAAANEA="
         },
         "xaxis": "x",
         "y": {
          "dtype": "f8",
          "bdata": "AAAAAAAAAABGhZoMGvniP/0jPCWPju4/xVNiW3I97j8mRkW6WiXiP8nbfMmkPqC/83ixWvXH478CrLCCy9fuv8Lxrg2K5O2/EVi7+O1M4b8hhrXMjDywPxwWPFK3keQ/4F76khQZ7z+VIxAn7YPtP2oTsJELcOA/+FNHxZdVuL/Ph2bxK1blv72X94FZUu+/GSzujrQb7b8eTT7q2B3fvw2EAnguNMA/9hc/lCAV5j8XHIGMi4PvP1UHwCL7q+w/7Kg+VZVT3T+cxDbGYznEv7HnwwFkzua/60I4BJ6s7786nB6v3TTsv49A2oTCgdu/nKyggGI5yD95GZN4xoHnPzPGy1KGze8/qUxY6Hq26z/8gWKM2KjZP8MppLIiM8y/jig6uxkv6L9kZrL8O+bvv3rOhmLzMOu/85MNU1HJ17+2iNkBzxLQP3BAIRwx1ug/gqxao7j27z+aVimJaaTqPwEMinSo49U/i412/ecH0r+Ngg+J4Xbpv+85zwb4/u+/k0FFlgER6r+8HyIhW/jTv5IfIiFb+NM/hkFFlgER6j/vOc8G+P7vP5qCD4nhduk/MI52/ecH0j+cC4p0qOPVv3xWKYlppOq/hKxao7j277+SQCEcMdbov6OI2QHPEtC/BZQNU1HJ1z+AzoZi8zDrP2lmsvw75u8/sig6uxkv6D8ZKqSyIjPMP9SBYozYqNm/rkxY6Hq26785xstShs3vv54Zk3jGgee/86yggGI5yL9oQNqEwoHbPxKcHq/dNOw/+EI4BJ6s7z/X58MBZM7mP3LFNsZjOcQ/xKg+VZVT3b9LB8Ai+6vsvxgcgYyLg++/+hc/lCAV5r+khAJ4LjTAv0xNPurYHd8/CSzujrQb7T/Pl/eBWVLvP9SHZvErVuU/p1VHxZdVuD9zE7CRC3Dgv4YjECftg+2/9F76khQZ778mFjxSt5HkvxCItcyMPLC/3Ve7+O1M4T+y8a4NiuTtPwyssILL1+4/0nixWvXH4z9q3HzJpD6gP+9FRbpaJeK/yFNiW3I97r8KJDwlj47uvy2Fmgwa+eK/CXPZv68P5rw="
         },
         "yaxis": "y",
         "type": "scatter"
        }
       ],
       "layout": {
        "template": {
         "data": {
          "histogram2dcontour": [
           {
            "type": "histogram2dcontour",
            "colorbar": {
             "outlinewidth": 0,
             "ticks": ""
            },
            "colorscale": [
             [
              0.0,
              "#0d0887"
             ],
             [
              0.1111111111111111,
              "#46039f"
             ],
             [
              0.2222222222222222,
              "#7201a8"
             ],
             [
              0.3333333333333333,
              "#9c179e"
             ],
             [
              0.4444444444444444,
              "#bd3786"
             ],
             [
              0.5555555555555556,
              "#d8576b"
             ],
             [
              0.6666666666666666,
              "#ed7953"
             ],
             [
              0.7777777777777778,
              "#fb9f3a"
             ],
             [
              0.8888888888888888,
              "#fdca26"
             ],
             [
              1.0,
              "#f0f921"
             ]
            ]
           }
          ],
          "choropleth": [
           {
            "type": "choropleth",
            "colorbar": {
             "outlinewidth": 0,
             "ticks": ""
            }
           }
          ],
          "histogram2d": [
           {
            "type": "histogram2d",
            "colorbar": {
             "outlinewidth": 0,
             "ticks": ""
            },
            "colorscale": [
             [
              0.0,
              "#0d0887"
             ],
             [
              0.1111111111111111,
              "#46039f"
             ],
             [
              0.2222222222222222,
              "#7201a8"
             ],
             [
              0.3333333333333333,
              "#9c179e"
             ],
             [
              0.4444444444444444,
              "#bd3786"
             ],
             [
              0.5555555555555556,
              "#d8576b"
             ],
             [
              0.6666666666666666,
              "#ed7953"
             ],
             [
              0.7777777777777778,
              "#fb9f3a"
             ],
             [
              0.8888888888888888,
              "#fdca26"
             ],
             [
              1.0,
              "#f0f921"
             ]
            ]
           }
          ],
          "heatmap": [
           {
            "type": "heatmap",
            "colorbar": {
             "outlinewidth": 0,
             "ticks": ""
            },
            "colorscale": [
             [
              0.0,
              "#0d0887"
             ],
             [
              0.1111111111111111,
              "#46039f"
             ],
             [
              0.2222222222222222,
              "#7201a8"
             ],
             [
              0.3333333333333333,
              "#9c179e"
             ],
             [
              0.4444444444444444,
              "#bd3786"
             ],
             [
              0.5555555555555556,
              "#d8576b"
             ],
             [
              0.6666666666666666,
              "#ed7953"
             ],
             [
              0.7777777777777778,
              "#fb9f3a"
             ],
             [
              0.8888888888888888,
              "#fdca26"
             ],
             [
              1.0,
              "#f0f921"
             ]
            ]
           }
          ],
          "contourcarpet": [
           {
            "type": "contourcarpet",
            "colorbar": {
             "outlinewidth": 0,
             "ticks": ""
            }
           }
          ],
          "contour": [
           {
            "type": "contour",
            "colorbar": {
             "outlinewidth": 0,
             "ticks": ""
            },
            "colorscale": [
             [
              0.0,
              "#0d0887"
             ],
             [
              0.1111111111111111,
              "#46039f"
             ],
             [
              0.2222222222222222,
              "#7201a8"
             ],
             [
              0.3333333333333333,
              "#9c179e"
             ],
             [
              0.4444444444444444,
              "#bd3786"
             ],
             [
              0.5555555555555556,
              "#d8576b"
             ],
             [
              0.6666666666666666,
              "#ed7953"
             ],
             [
              0.7777777777777778,
              "#fb9f3a"
             ],
             [
              0.8888888888888888,
              "#fdca26"
             ],
             [
              1.0,
              "#f0f921"
             ]
            ]
           }
          ],
          "surface": [
           {
            "type": "surface",
            "colorbar": {
             "outlinewidth": 0,
             "ticks": ""
            },
            "colorscale": [
             [
              0.0,
              "#0d0887"
             ],
             [
              0.1111111111111111,
              "#46039f"
             ],
             [
              0.2222222222222222,
              "#7201a8"
             ],
             [
              0.3333333333333333,
              "#9c179e"
             ],
             [
              0.4444444444444444,
              "#bd3786"
             ],
             [
              0.5555555555555556,
              "#d8576b"
             ],
             [
              0.6666666666666666,
              "#ed7953"
             ],
             [
              0.7777777777777778,
              "#fb9f3a"
             ],
             [
              0.8888888888888888,
              "#fdca26"
             ],
             [
              1.0,
              "#f0f921"
             ]
            ]
           }
          ],
          "mesh3d": [
           {
            "type": "mesh3d",
            "colorbar": {
             "outlinewidth": 0,
             "ticks": ""
            }
           }
          ],
          "scatter": [
           {
            "fillpattern": {
             "fillmode": "overlay",
             "size": 10,
             "solidity": 0.2
            },
            "type": "scatter"
           }
          ],
          "parcoords": [
           {
            "type": "parcoords",
            "line": {
             "colorbar": {
              "outlinewidth": 0,
              "ticks": ""
             }
            }
           }
          ],
          "scatterpolargl": [
           {
            "type": "scatterpolargl",
            "marker": {
             "colorbar": {
              "outlinewidth": 0,
              "ticks": ""
             }
            }
           }
          ],
          "bar": [
           {
            "error_x": {
             "color": "#2a3f5f"
            },
            "error_y": {
             "color": "#2a3f5f"
            },
            "marker": {
             "line": {
              "color": "white",
              "width": 0.5
             },
             "pattern": {
              "fillmode": "overlay",
              "size": 10,
              "solidity": 0.2
             }
            },
            "type": "bar"
           }
          ],
          "scattergeo": [
           {
            "type": "scattergeo",
            "marker": {
             "colorbar": {
              "outlinewidth": 0,
              "ticks": ""
             }
            }
           }
          ],
          "scatterpolar": [
           {
            "type": "scatterpolar",
            "marker": {
             "colorbar": {
              "outlinewidth": 0,
              "ticks": ""
             }
            }
           }
          ],
          "histogram": [
           {
            "marker": {
             "pattern": {
              "fillmode": "overlay",
              "size": 10,
              "solidity": 0.2
             }
            },
            "type": "histogram"
           }
          ],
          "scattergl": [
           {
            "type": "scattergl",
            "marker": {
             "colorbar": {
              "outlinewidth": 0,
              "ticks": ""
             }
            }
           }
          ],
          "scatter3d": [
           {
            "type": "scatter3d",
            "line": {
             "colorbar": {
              "outlinewidth": 0,
              "ticks": ""
             }
            },
            "marker": {
             "colorbar": {
              "outlinewidth": 0,
              "ticks": ""
             }
            }
           }
          ],
          "scattermap": [
           {
            "type": "scattermap",
            "marker": {
             "colorbar": {
              "outlinewidth": 0,
              "ticks": ""
             }
            }
           }
          ],
          "scattermapbox": [
           {
            "type": "scattermapbox",
            "marker": {
             "colorbar": {
              "outlinewidth": 0,
              "ticks": ""
             }
            }
           }
          ],
          "scatterternary": [
           {
            "type": "scatterternary",
            "marker": {
             "colorbar": {
              "outlinewidth": 0,
              "ticks": ""
             }
            }
           }
          ],
          "scattercarpet": [
           {
            "type": "scattercarpet",
            "marker": {
             "colorbar": {
              "outlinewidth": 0,
              "ticks": ""
             }
            }
           }
          ],
          "carpet": [
           {
            "aaxis": {
             "endlinecolor": "#2a3f5f",
             "gridcolor": "#C8D4E3",
             "linecolor": "#C8D4E3",
             "minorgridcolor": "#C8D4E3",
             "startlinecolor": "#2a3f5f"
            },
            "baxis": {
             "endlinecolor": "#2a3f5f",
             "gridcolor": "#C8D4E3",
             "linecolor": "#C8D4E3",
             "minorgridcolor": "#C8D4E3",
             "startlinecolor": "#2a3f5f"
            },
            "type": "carpet"
           }
          ],
          "table": [
           {
            "cells": {
             "fill": {
              "color": "#EBF0F8"
             },
             "line": {
              "color": "white"
             }
            },
            "header": {
             "fill": {
              "color": "#C8D4E3"
             },
             "line": {
              "color": "white"
             }
            },
            "type": "table"
           }
          ],
          "barpolar": [
           {
            "marker": {
             "line": {
              "color": "white",
              "width": 0.5
             },
             "pattern": {
              "fillmode": "overlay",
              "size": 10,
              "solidity": 0.2
             }
            },
            "type": "barpolar"
           }
          ],
          "pie": [
           {
            "automargin": true,
            "type": "pie"
           }
          ]
         },
         "layout": {
          "autotypenumbers": "strict",
          "colorway": [
           "#636efa",
           "#EF553B",
           "#00cc96",
           "#ab63fa",
           "#FFA15A",
           "#19d3f3",
           "#FF6692",
           "#B6E880",
           "#FF97FF",
           "#FECB52"
          ],
          "font": {
           "color": "#2a3f5f"
          },
          "hovermode": "closest",
          "hoverlabel": {
           "align": "left"
          },
          "paper_bgcolor": "white",
          "plot_bgcolor": "white",
          "polar": {
           "bgcolor": "white",
           "angularaxis": {
            "gridcolor": "#EBF0F8",
            "linecolor": "#EBF0F8",
            "ticks": ""
           },
           "radialaxis": {
            "gridcolor": "#EBF0F8",
            "linecolor": "#EBF0F8",
            "ticks": ""
           }
          },
          "ternary": {
           "bgcolor": "white",
           "aaxis": {
            "gridcolor": "#DFE8F3",
            "linecolor": "#A2B1C6",
            "ticks": ""
           },
           "baxis": {
            "gridcolor": "#DFE8F3",
            "linecolor": "#A2B1C6",
            "ticks": ""
           },
           "caxis": {
            "gridcolor": "#DFE8F3",
            "linecolor": "#A2B1C6",
            "ticks": ""
           }
          },
          "coloraxis": {
           "colorbar": {
            "outlinewidth": 0,
            "ticks": ""
           }
          },
          "colorscale": {
           "sequential": [
            [
             0.0,
             "#0d0887"
            ],
            [
             0.1111111111111111,
             "#46039f"
            ],
            [
             0.2222222222222222,
             "#7201a8"
            ],
            [
             0.3333333333333333,
             "#9c179e"
            ],
            [
             0.4444444444444444,
             "#bd3786"
            ],
            [
             0.5555555555555556,
             "#d8576b"
            ],
            [
             0.6666666666666666,
             "#ed7953"
            ],
            [
             0.7777777777777778,
             "#fb9f3a"
            ],
            [
             0.8888888888888888,
             "#fdca26"
            ],
            [
             1.0,
             "#f0f921"
            ]
           ],
           "sequentialminus": [
            [
             0.0,
             "#0d0887"
            ],
            [
             0.1111111111111111,
             "#46039f"
            ],
            [
             0.2222222222222222,
             "#7201a8"
            ],
            [
             0.3333333333333333,
             "#9c179e"
            ],
            [
             0.4444444444444444,
             "#bd3786"
            ],
            [
             0.5555555555555556,
             "#d8576b"
            ],
            [
             0.6666666666666666,
             "#ed7953"
            ],
            [
             0.7777777777777778,
             "#fb9f3a"
            ],
            [
             0.8888888888888888,
             "#fdca26"
            ],
            [
             1.0,
             "#f0f921"
            ]
           ],
           "diverging": [
            [
             0,
             "#8e0152"
            ],
            [
             0.1,
             "#c51b7d"
            ],
            [
             0.2,
             "#de77ae"
            ],
            [
             0.3,
             "#f1b6da"
            ],
            [
             0.4,
             "#fde0ef"
            ],
            [
             0.5,
             "#f7f7f7"
            ],
            [
             0.6,
             "#e6f5d0"
            ],
            [
             0.7,
             "#b8e186"
            ],
            [
             0.8,
             "#7fbc41"
            ],
            [
             0.9,
             "#4d9221"
            ],
            [
             1,
             "#276419"
            ]
           ]
          },
          "xaxis": {
           "gridcolor": "#EBF0F8",
           "linecolor": "#EBF0F8",
           "ticks": "",
           "title": {
            "standoff": 15
           },
           "zerolinecolor": "#EBF0F8",
           "automargin": true,
           "zerolinewidth": 2
          },
          "yaxis": {
           "gridcolor": "#EBF0F8",
           "linecolor": "#EBF0F8",
           "ticks": "",
           "title": {
            "standoff": 15
           },
           "zerolinecolor": "#EBF0F8",
           "automargin": true,
           "zerolinewidth": 2
          },
          "scene": {
           "xaxis": {
            "backgroundcolor": "white",
            "gridcolor": "#DFE8F3",
            "linecolor": "#EBF0F8",
            "showbackground": true,
            "ticks": "",
            "zerolinecolor": "#EBF0F8",
            "gridwidth": 2
           },
           "yaxis": {
            "backgroundcolor": "white",
            "gridcolor": "#DFE8F3",
            "linecolor": "#EBF0F8",
            "showbackground": true,
            "ticks": "",
            "zerolinecolor": "#EBF0F8",
            "gridwidth": 2
           },
           "zaxis": {
            "backgroundcolor": "white",
            "gridcolor": "#DFE8F3",
            "linecolor": "#EBF0F8",
            "showbackground": true,
            "ticks": "",
            "zerolinecolor": "#EBF0F8",
            "gridwidth": 2
           }
          },
          "shapedefaults": {
           "line": {
            "color": "#2a3f5f"
           }
          },
          "annotationdefaults": {
           "arrowcolor": "#2a3f5f",
           "arrowhead": 0,
           "arrowwidth": 1
          },
          "geo": {
           "bgcolor": "white",
           "landcolor": "white",
           "subunitcolor": "#C8D4E3",
           "showland": true,
           "showlakes": true,
           "lakecolor": "white"
          },
          "title": {
           "x": 0.05
          },
          "mapbox": {
           "style": "light"
          }
         }
        },
        "xaxis": {
         "anchor": "y",
         "domain": [
          0.0,
          1.0
         ],
         "title": {
          "text": "Time",
          "font": {
           "size": 12
          }
         }
        },
        "yaxis": {
         "anchor": "x",
         "domain": [
          0.0,
          1.0
         ],
         "title": {
          "text": "Value",
          "font": {
           "size": 12
          }
         }
        },
        "legend": {
         "title": {
          "text": "ts"
         },
         "tracegroupgap": 0
        },
        "margin": {
         "t": 60
        },
        "title": {
         "font": {
          "size": 25
         },
         "text": "",
         "y": 0.9,
         "x": 0.5,
         "xanchor": "center",
         "yanchor": "top"
        },
        "autosize": false,
        "width": 900,
        "height": 500
       },
       "config": {
        "plotlyServerURL": "https://plot.ly"
       }
      }
     },
     "metadata": {},
     "output_type": "display_data",
     "jetTransient": {
      "display_id": null
     }
    }
   ],
   "execution_count": 13
  },
  {
   "metadata": {},
   "cell_type": "markdown",
   "source": "## Psuedo Periodic",
   "id": "45efa0669cc469c7"
  },
  {
   "metadata": {
    "ExecuteTime": {
     "end_time": "2025-10-06T15:11:32.047332Z",
     "start_time": "2025-10-06T15:11:32.017508Z"
    }
   },
   "cell_type": "code",
   "source": [
    "signal = ts.signals.PseudoPeriodic(amplitude=1, frequency=0.25)\n",
    "samples, regular_time_samples, signals, errors = generate_timeseries(signal=signal)"
   ],
   "id": "a4a18eefca787a54",
   "outputs": [],
   "execution_count": 14
  },
  {
   "metadata": {
    "ExecuteTime": {
     "end_time": "2025-10-06T15:13:55.975178Z",
     "start_time": "2025-10-06T15:13:55.924306Z"
    }
   },
   "cell_type": "code",
   "source": [
    "fig = plot_time_series(regular_time_samples, samples, '')\n",
    "if SAVE_FIGURES:\n",
    "    fig.write_image(\"imgs/chapter_1/pseudo_process.png\")\n",
    "fig.show()"
   ],
   "id": "1262183d68308f25",
   "outputs": [
    {
     "data": {
      "application/vnd.plotly.v1+json": {
       "data": [
        {
         "hovertemplate": "Time=%{x}<br>Value=%{y}<extra></extra>",
         "legendgroup": "",
         "line": {
          "color": "#636efa",
          "dash": "solid"
         },
         "marker": {
          "symbol": "circle"
         },
         "mode": "lines",
         "name": "",
         "orientation": "v",
         "showlegend": false,
         "x": {
          "dtype": "f8",
          "bdata": "AAAAAAAAAAAxb2dIzNvJPzFvZ0jM29k/ZZNNNtlk4z8xb2dIzNvpP3+lQK1fKfA/ZZNNNtlk8z9LgVq/UqD2PzFvZ0jM2/k/F1100UUX/T9/pUCtXykAQHIcx3EcxwFAZZNNNtlkA0BYCtT6lQIFQEuBWr9SoAZAPvjggw8+CEAxb2dIzNsJQCTm7QyJeQtAF1100UUXDUAK1PqVArUOQH+lQK1fKRBA+OCDDz74EEByHMdxHMcRQOtXCtT6lRJAZZNNNtlkE0DezpCYtzMUQFgK1PqVAhVA0UUXXXTRFUBLgVq/UqAWQMS8nSExbxdAPvjggw8+GEC3MyTm7QwZQDFvZ0jM2xlAq6qqqqqqGkAk5u0MiXkbQJ4hMW9nSBxAF1100UUXHUCRmLczJOYdQArU+pUCtR5AhA8++OCDH0B/pUCtXykgQDtDYt7OkCBA+OCDDz74IEC1fqVArV8hQHIcx3EcxyFALrrooosuIkDrVwrU+pUiQKj1KwVq/SJAZZNNNtlkI0AiMW9nSMwjQN7OkJi3MyRAm2yyySabJEBYCtT6lQIlQBWo9SsFaiVA0UUXXXTRJUCO4ziO4zgmQEuBWr9SoCZACB988MEHJ0DEvJ0hMW8nQIFav1Kg1idAPvjggw8+KED7lQK1fqUoQLczJObtDClAdNFFF110KUAxb2dIzNspQO4MiXk7QypAq6qqqqqqKkBnSMzbGRIrQCTm7QyJeStA4YMPPvjgK0CeITFvZ0gsQFq/UqDWryxAF1100UUXLUDU+pUCtX4tQJGYtzMk5i1ATTbZZJNNLkAK1PqVArUuQMdxHMdxHC9AhA8++OCDL0BArV8pUOsvQH+lQK1fKTBAXXTRRRddMEA7Q2LezpAwQBoS83aGxDBA+OCDDz74MEDXrxSo9SsxQLV+pUCtXzFAk0022WSTMUByHMdxHMcxQFDrVwrU+jFALrrooosuMkANiXk7Q2IyQOtXCtT6lTJAyiabbLLJMkCo9SsFav0yQIbEvJ0hMTNAZZNNNtlkM0BDYt7OkJgzQCIxb2dIzDNAAAAAAAAANEA="
         },
         "xaxis": "x",
         "y": {
          "dtype": "f8",
          "bdata": "AAAAAAAAAACWf/Ngb+3DP6ykoBaMhdY/ASYxlF+80z/YeUUfn61qP7YZcmSUgJS/gcnbVUzJ2z9zvMh2EePDP7o3W93viaU/MQXjSoTX2z/BCmx/Zu3qPyTZ3JT7/ew/M/te8OOd1j/cDGVDn33VPxx7McMDl+Y/nWf3qxKs3j/zGEfVG6vlvwzCfSjMEuc/Icr7Vr4G6j8P+FpgL2DqP9FZCQ+3ceg/CSEotWnr8D/KALxqgWjfvxmntgvxPfC/a6EuorXq5b/EQO1i+pbIv+p0kCXQ+ec/VNdebVQZ479Fh0Az/Bzev2Nc8mTA38M/Y2cgAuDD3T+ifmGuQTvtPwSfWJDdGu2/J/Bpc3KI2z8JHoAOi6nkP/t48+00otA/GwG5aN+47T8d64QYf3rgP+tr5cEg4ta/Xk57jD4K2z+/LxA1eqrpvxz2YHGQ5eo/M4IzCvwu1j+0wSD2Wrrdv2R45ms0Dea/gIWmpOnU6b8ZekzZKcXovw6tzZFSQOi/16maGb128b/Rjm4f187nv7hLxlK/O+y/WQ10nugj4T/V5wax1Zqpv947ofQEL+E/WJfqyStT6z+hDxELzQTxP8bkhwqwdu+/A0pny7KU4r8HK8YQ3mXpP4/tnZ6YQOA/DMRhZ0476D8AHcRMMLnXv1V22Y4hOO0/+1SnON7E3L8p++H7zRHmP2gG90FJCfG/vnk7ls557j//TxQl1lzrPx+6beD9M9u/m88b8yX2vD+dQbCfglXtv2sVrKKAG7I/EdxTPyTC37/zbfPi967YP6uxcjNbgOU/OyKkTxCa5r+OSDF14KPvP+Tj4rks0uK/1pcKPv3g2j+Nvp/8vwnrv//cH8mb8O2/3sIJyfwd2j98wuyrAmfVv4olUEoASvC/+7xO17zC6T8d+H6bWq28v3nJpHpwk94/wM+rHd1YyD8LmBPRjmrwP8INl8B5kus/TmqaNwNk4L9C5FTFAgOTvz2RuwW2S+0/55xTsBlb8D8UIWtHjQTtv15iSNC3qOm/21EHonsE8D/Bx5izsVnvv4dN6dHw5s8/ODkZzloS8D8="
         },
         "yaxis": "y",
         "type": "scatter"
        }
       ],
       "layout": {
        "template": {
         "data": {
          "histogram2dcontour": [
           {
            "type": "histogram2dcontour",
            "colorbar": {
             "outlinewidth": 0,
             "ticks": ""
            },
            "colorscale": [
             [
              0.0,
              "#0d0887"
             ],
             [
              0.1111111111111111,
              "#46039f"
             ],
             [
              0.2222222222222222,
              "#7201a8"
             ],
             [
              0.3333333333333333,
              "#9c179e"
             ],
             [
              0.4444444444444444,
              "#bd3786"
             ],
             [
              0.5555555555555556,
              "#d8576b"
             ],
             [
              0.6666666666666666,
              "#ed7953"
             ],
             [
              0.7777777777777778,
              "#fb9f3a"
             ],
             [
              0.8888888888888888,
              "#fdca26"
             ],
             [
              1.0,
              "#f0f921"
             ]
            ]
           }
          ],
          "choropleth": [
           {
            "type": "choropleth",
            "colorbar": {
             "outlinewidth": 0,
             "ticks": ""
            }
           }
          ],
          "histogram2d": [
           {
            "type": "histogram2d",
            "colorbar": {
             "outlinewidth": 0,
             "ticks": ""
            },
            "colorscale": [
             [
              0.0,
              "#0d0887"
             ],
             [
              0.1111111111111111,
              "#46039f"
             ],
             [
              0.2222222222222222,
              "#7201a8"
             ],
             [
              0.3333333333333333,
              "#9c179e"
             ],
             [
              0.4444444444444444,
              "#bd3786"
             ],
             [
              0.5555555555555556,
              "#d8576b"
             ],
             [
              0.6666666666666666,
              "#ed7953"
             ],
             [
              0.7777777777777778,
              "#fb9f3a"
             ],
             [
              0.8888888888888888,
              "#fdca26"
             ],
             [
              1.0,
              "#f0f921"
             ]
            ]
           }
          ],
          "heatmap": [
           {
            "type": "heatmap",
            "colorbar": {
             "outlinewidth": 0,
             "ticks": ""
            },
            "colorscale": [
             [
              0.0,
              "#0d0887"
             ],
             [
              0.1111111111111111,
              "#46039f"
             ],
             [
              0.2222222222222222,
              "#7201a8"
             ],
             [
              0.3333333333333333,
              "#9c179e"
             ],
             [
              0.4444444444444444,
              "#bd3786"
             ],
             [
              0.5555555555555556,
              "#d8576b"
             ],
             [
              0.6666666666666666,
              "#ed7953"
             ],
             [
              0.7777777777777778,
              "#fb9f3a"
             ],
             [
              0.8888888888888888,
              "#fdca26"
             ],
             [
              1.0,
              "#f0f921"
             ]
            ]
           }
          ],
          "contourcarpet": [
           {
            "type": "contourcarpet",
            "colorbar": {
             "outlinewidth": 0,
             "ticks": ""
            }
           }
          ],
          "contour": [
           {
            "type": "contour",
            "colorbar": {
             "outlinewidth": 0,
             "ticks": ""
            },
            "colorscale": [
             [
              0.0,
              "#0d0887"
             ],
             [
              0.1111111111111111,
              "#46039f"
             ],
             [
              0.2222222222222222,
              "#7201a8"
             ],
             [
              0.3333333333333333,
              "#9c179e"
             ],
             [
              0.4444444444444444,
              "#bd3786"
             ],
             [
              0.5555555555555556,
              "#d8576b"
             ],
             [
              0.6666666666666666,
              "#ed7953"
             ],
             [
              0.7777777777777778,
              "#fb9f3a"
             ],
             [
              0.8888888888888888,
              "#fdca26"
             ],
             [
              1.0,
              "#f0f921"
             ]
            ]
           }
          ],
          "surface": [
           {
            "type": "surface",
            "colorbar": {
             "outlinewidth": 0,
             "ticks": ""
            },
            "colorscale": [
             [
              0.0,
              "#0d0887"
             ],
             [
              0.1111111111111111,
              "#46039f"
             ],
             [
              0.2222222222222222,
              "#7201a8"
             ],
             [
              0.3333333333333333,
              "#9c179e"
             ],
             [
              0.4444444444444444,
              "#bd3786"
             ],
             [
              0.5555555555555556,
              "#d8576b"
             ],
             [
              0.6666666666666666,
              "#ed7953"
             ],
             [
              0.7777777777777778,
              "#fb9f3a"
             ],
             [
              0.8888888888888888,
              "#fdca26"
             ],
             [
              1.0,
              "#f0f921"
             ]
            ]
           }
          ],
          "mesh3d": [
           {
            "type": "mesh3d",
            "colorbar": {
             "outlinewidth": 0,
             "ticks": ""
            }
           }
          ],
          "scatter": [
           {
            "fillpattern": {
             "fillmode": "overlay",
             "size": 10,
             "solidity": 0.2
            },
            "type": "scatter"
           }
          ],
          "parcoords": [
           {
            "type": "parcoords",
            "line": {
             "colorbar": {
              "outlinewidth": 0,
              "ticks": ""
             }
            }
           }
          ],
          "scatterpolargl": [
           {
            "type": "scatterpolargl",
            "marker": {
             "colorbar": {
              "outlinewidth": 0,
              "ticks": ""
             }
            }
           }
          ],
          "bar": [
           {
            "error_x": {
             "color": "#2a3f5f"
            },
            "error_y": {
             "color": "#2a3f5f"
            },
            "marker": {
             "line": {
              "color": "white",
              "width": 0.5
             },
             "pattern": {
              "fillmode": "overlay",
              "size": 10,
              "solidity": 0.2
             }
            },
            "type": "bar"
           }
          ],
          "scattergeo": [
           {
            "type": "scattergeo",
            "marker": {
             "colorbar": {
              "outlinewidth": 0,
              "ticks": ""
             }
            }
           }
          ],
          "scatterpolar": [
           {
            "type": "scatterpolar",
            "marker": {
             "colorbar": {
              "outlinewidth": 0,
              "ticks": ""
             }
            }
           }
          ],
          "histogram": [
           {
            "marker": {
             "pattern": {
              "fillmode": "overlay",
              "size": 10,
              "solidity": 0.2
             }
            },
            "type": "histogram"
           }
          ],
          "scattergl": [
           {
            "type": "scattergl",
            "marker": {
             "colorbar": {
              "outlinewidth": 0,
              "ticks": ""
             }
            }
           }
          ],
          "scatter3d": [
           {
            "type": "scatter3d",
            "line": {
             "colorbar": {
              "outlinewidth": 0,
              "ticks": ""
             }
            },
            "marker": {
             "colorbar": {
              "outlinewidth": 0,
              "ticks": ""
             }
            }
           }
          ],
          "scattermap": [
           {
            "type": "scattermap",
            "marker": {
             "colorbar": {
              "outlinewidth": 0,
              "ticks": ""
             }
            }
           }
          ],
          "scattermapbox": [
           {
            "type": "scattermapbox",
            "marker": {
             "colorbar": {
              "outlinewidth": 0,
              "ticks": ""
             }
            }
           }
          ],
          "scatterternary": [
           {
            "type": "scatterternary",
            "marker": {
             "colorbar": {
              "outlinewidth": 0,
              "ticks": ""
             }
            }
           }
          ],
          "scattercarpet": [
           {
            "type": "scattercarpet",
            "marker": {
             "colorbar": {
              "outlinewidth": 0,
              "ticks": ""
             }
            }
           }
          ],
          "carpet": [
           {
            "aaxis": {
             "endlinecolor": "#2a3f5f",
             "gridcolor": "#C8D4E3",
             "linecolor": "#C8D4E3",
             "minorgridcolor": "#C8D4E3",
             "startlinecolor": "#2a3f5f"
            },
            "baxis": {
             "endlinecolor": "#2a3f5f",
             "gridcolor": "#C8D4E3",
             "linecolor": "#C8D4E3",
             "minorgridcolor": "#C8D4E3",
             "startlinecolor": "#2a3f5f"
            },
            "type": "carpet"
           }
          ],
          "table": [
           {
            "cells": {
             "fill": {
              "color": "#EBF0F8"
             },
             "line": {
              "color": "white"
             }
            },
            "header": {
             "fill": {
              "color": "#C8D4E3"
             },
             "line": {
              "color": "white"
             }
            },
            "type": "table"
           }
          ],
          "barpolar": [
           {
            "marker": {
             "line": {
              "color": "white",
              "width": 0.5
             },
             "pattern": {
              "fillmode": "overlay",
              "size": 10,
              "solidity": 0.2
             }
            },
            "type": "barpolar"
           }
          ],
          "pie": [
           {
            "automargin": true,
            "type": "pie"
           }
          ]
         },
         "layout": {
          "autotypenumbers": "strict",
          "colorway": [
           "#636efa",
           "#EF553B",
           "#00cc96",
           "#ab63fa",
           "#FFA15A",
           "#19d3f3",
           "#FF6692",
           "#B6E880",
           "#FF97FF",
           "#FECB52"
          ],
          "font": {
           "color": "#2a3f5f"
          },
          "hovermode": "closest",
          "hoverlabel": {
           "align": "left"
          },
          "paper_bgcolor": "white",
          "plot_bgcolor": "white",
          "polar": {
           "bgcolor": "white",
           "angularaxis": {
            "gridcolor": "#EBF0F8",
            "linecolor": "#EBF0F8",
            "ticks": ""
           },
           "radialaxis": {
            "gridcolor": "#EBF0F8",
            "linecolor": "#EBF0F8",
            "ticks": ""
           }
          },
          "ternary": {
           "bgcolor": "white",
           "aaxis": {
            "gridcolor": "#DFE8F3",
            "linecolor": "#A2B1C6",
            "ticks": ""
           },
           "baxis": {
            "gridcolor": "#DFE8F3",
            "linecolor": "#A2B1C6",
            "ticks": ""
           },
           "caxis": {
            "gridcolor": "#DFE8F3",
            "linecolor": "#A2B1C6",
            "ticks": ""
           }
          },
          "coloraxis": {
           "colorbar": {
            "outlinewidth": 0,
            "ticks": ""
           }
          },
          "colorscale": {
           "sequential": [
            [
             0.0,
             "#0d0887"
            ],
            [
             0.1111111111111111,
             "#46039f"
            ],
            [
             0.2222222222222222,
             "#7201a8"
            ],
            [
             0.3333333333333333,
             "#9c179e"
            ],
            [
             0.4444444444444444,
             "#bd3786"
            ],
            [
             0.5555555555555556,
             "#d8576b"
            ],
            [
             0.6666666666666666,
             "#ed7953"
            ],
            [
             0.7777777777777778,
             "#fb9f3a"
            ],
            [
             0.8888888888888888,
             "#fdca26"
            ],
            [
             1.0,
             "#f0f921"
            ]
           ],
           "sequentialminus": [
            [
             0.0,
             "#0d0887"
            ],
            [
             0.1111111111111111,
             "#46039f"
            ],
            [
             0.2222222222222222,
             "#7201a8"
            ],
            [
             0.3333333333333333,
             "#9c179e"
            ],
            [
             0.4444444444444444,
             "#bd3786"
            ],
            [
             0.5555555555555556,
             "#d8576b"
            ],
            [
             0.6666666666666666,
             "#ed7953"
            ],
            [
             0.7777777777777778,
             "#fb9f3a"
            ],
            [
             0.8888888888888888,
             "#fdca26"
            ],
            [
             1.0,
             "#f0f921"
            ]
           ],
           "diverging": [
            [
             0,
             "#8e0152"
            ],
            [
             0.1,
             "#c51b7d"
            ],
            [
             0.2,
             "#de77ae"
            ],
            [
             0.3,
             "#f1b6da"
            ],
            [
             0.4,
             "#fde0ef"
            ],
            [
             0.5,
             "#f7f7f7"
            ],
            [
             0.6,
             "#e6f5d0"
            ],
            [
             0.7,
             "#b8e186"
            ],
            [
             0.8,
             "#7fbc41"
            ],
            [
             0.9,
             "#4d9221"
            ],
            [
             1,
             "#276419"
            ]
           ]
          },
          "xaxis": {
           "gridcolor": "#EBF0F8",
           "linecolor": "#EBF0F8",
           "ticks": "",
           "title": {
            "standoff": 15
           },
           "zerolinecolor": "#EBF0F8",
           "automargin": true,
           "zerolinewidth": 2
          },
          "yaxis": {
           "gridcolor": "#EBF0F8",
           "linecolor": "#EBF0F8",
           "ticks": "",
           "title": {
            "standoff": 15
           },
           "zerolinecolor": "#EBF0F8",
           "automargin": true,
           "zerolinewidth": 2
          },
          "scene": {
           "xaxis": {
            "backgroundcolor": "white",
            "gridcolor": "#DFE8F3",
            "linecolor": "#EBF0F8",
            "showbackground": true,
            "ticks": "",
            "zerolinecolor": "#EBF0F8",
            "gridwidth": 2
           },
           "yaxis": {
            "backgroundcolor": "white",
            "gridcolor": "#DFE8F3",
            "linecolor": "#EBF0F8",
            "showbackground": true,
            "ticks": "",
            "zerolinecolor": "#EBF0F8",
            "gridwidth": 2
           },
           "zaxis": {
            "backgroundcolor": "white",
            "gridcolor": "#DFE8F3",
            "linecolor": "#EBF0F8",
            "showbackground": true,
            "ticks": "",
            "zerolinecolor": "#EBF0F8",
            "gridwidth": 2
           }
          },
          "shapedefaults": {
           "line": {
            "color": "#2a3f5f"
           }
          },
          "annotationdefaults": {
           "arrowcolor": "#2a3f5f",
           "arrowhead": 0,
           "arrowwidth": 1
          },
          "geo": {
           "bgcolor": "white",
           "landcolor": "white",
           "subunitcolor": "#C8D4E3",
           "showland": true,
           "showlakes": true,
           "lakecolor": "white"
          },
          "title": {
           "x": 0.05
          },
          "mapbox": {
           "style": "light"
          }
         }
        },
        "xaxis": {
         "anchor": "y",
         "domain": [
          0.0,
          1.0
         ],
         "title": {
          "text": "Time",
          "font": {
           "size": 12
          }
         }
        },
        "yaxis": {
         "anchor": "x",
         "domain": [
          0.0,
          1.0
         ],
         "title": {
          "text": "Value",
          "font": {
           "size": 12
          }
         }
        },
        "legend": {
         "tracegroupgap": 0
        },
        "margin": {
         "t": 60
        },
        "title": {
         "font": {
          "size": 25
         },
         "text": "",
         "y": 0.9,
         "x": 0.5,
         "xanchor": "center",
         "yanchor": "top"
        },
        "autosize": false,
        "width": 900,
        "height": 500
       },
       "config": {
        "plotlyServerURL": "https://plot.ly"
       }
      }
     },
     "metadata": {},
     "output_type": "display_data",
     "jetTransient": {
      "display_id": null
     }
    }
   ],
   "execution_count": 15
  },
  {
   "metadata": {},
   "cell_type": "code",
   "outputs": [],
   "execution_count": null,
   "source": "",
   "id": "8fbde66ae33eceb3"
  }
 ],
 "metadata": {
  "kernelspec": {
   "display_name": "Python 3",
   "language": "python",
   "name": "python3"
  },
  "language_info": {
   "codemirror_mode": {
    "name": "ipython",
    "version": 2
   },
   "file_extension": ".py",
   "mimetype": "text/x-python",
   "name": "python",
   "nbconvert_exporter": "python",
   "pygments_lexer": "ipython2",
   "version": "2.7.6"
  }
 },
 "nbformat": 4,
 "nbformat_minor": 5
}
